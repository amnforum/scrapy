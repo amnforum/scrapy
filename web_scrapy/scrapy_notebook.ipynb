{
 "cells": [
  {
   "cell_type": "markdown",
   "id": "ba5fb107",
   "metadata": {},
   "source": [
    "# Scraping the schools and staff info of FCPS\n",
    "\n",
    "\n",
    "\n"
   ]
  },
  {
   "cell_type": "code",
   "execution_count": null,
   "id": "0a53f7b7",
   "metadata": {},
   "outputs": [],
   "source": [
    "!pip install requests --upgrade -q"
   ]
  },
  {
   "cell_type": "code",
   "execution_count": null,
   "id": "d65c26b6",
   "metadata": {},
   "outputs": [],
   "source": [
    "import requests"
   ]
  },
  {
   "cell_type": "code",
   "execution_count": null,
   "id": "5c6613c9",
   "metadata": {},
   "outputs": [],
   "source": [
    "schools_url = 'https://www.fcps.edu/schools-centers'"
   ]
  },
  {
   "cell_type": "code",
   "execution_count": null,
   "id": "dbc785f0",
   "metadata": {},
   "outputs": [],
   "source": [
    "response = requests.get(schools_url)\n",
    "response.status_code"
   ]
  },
  {
   "cell_type": "code",
   "execution_count": null,
   "id": "421d0302",
   "metadata": {},
   "outputs": [],
   "source": [
    "len(response.text)"
   ]
  },
  {
   "cell_type": "code",
   "execution_count": null,
   "id": "2abde92b",
   "metadata": {},
   "outputs": [],
   "source": [
    "page_contents = response.text"
   ]
  },
  {
   "cell_type": "code",
   "execution_count": null,
   "id": "82f96f82",
   "metadata": {},
   "outputs": [],
   "source": [
    "!pip install beautifulsoup4 --upgrade --quiet"
   ]
  },
  {
   "cell_type": "code",
   "execution_count": null,
   "id": "401ff959",
   "metadata": {},
   "outputs": [],
   "source": [
    "from bs4 import BeautifulSoup"
   ]
  },
  {
   "cell_type": "code",
   "execution_count": null,
   "id": "4e5696c3",
   "metadata": {},
   "outputs": [],
   "source": [
    "doc = BeautifulSoup(page_contents,'html.parser')"
   ]
  },
  {
   "cell_type": "code",
   "execution_count": null,
   "id": "5da6d23d",
   "metadata": {},
   "outputs": [],
   "source": [
    "type(doc)"
   ]
  },
  {
   "cell_type": "code",
   "execution_count": null,
   "id": "0e499a2b",
   "metadata": {},
   "outputs": [],
   "source": [
    "school_selection = 'node__title'\n",
    "repo_tags = doc.find_all('div', {'class':school_selection})"
   ]
  },
  {
   "cell_type": "code",
   "execution_count": null,
   "id": "f0e6bf3b",
   "metadata": {},
   "outputs": [],
   "source": [
    "repo_tags[0].text.strip()"
   ]
  },
  {
   "cell_type": "code",
   "execution_count": null,
   "id": "11d43db3",
   "metadata": {},
   "outputs": [],
   "source": [
    "a_tags = repo_tags[0].find_all('a')"
   ]
  },
  {
   "cell_type": "code",
   "execution_count": null,
   "id": "cb7253f6",
   "metadata": {},
   "outputs": [],
   "source": [
    "a_tags[0].text.strip()"
   ]
  },
  {
   "cell_type": "code",
   "execution_count": null,
   "id": "3fc5ee4e",
   "metadata": {},
   "outputs": [],
   "source": [
    "a_tags[1]['href']"
   ]
  },
  {
   "cell_type": "code",
   "execution_count": null,
   "id": "6aefd464",
   "metadata": {},
   "outputs": [],
   "source": [
    "repo_tags[0].find_all('a')[0].text.strip()"
   ]
  },
  {
   "cell_type": "code",
   "execution_count": null,
   "id": "c07a56f7",
   "metadata": {},
   "outputs": [],
   "source": [
    "schools_names = []\n",
    "for tag in repo_tags:\n",
    "    #print(a_tags.text.strip())\n",
    "    schools_names.append(tag.text.strip())\n",
    "    #print(tag)\n",
    "print(schools_names)\n",
    "len(schools_names)"
   ]
  },
  {
   "cell_type": "code",
   "execution_count": null,
   "id": "54941e8f",
   "metadata": {},
   "outputs": [],
   "source": [
    "school_links=[]\n",
    "base_url = 'https://www.fcps.edu'\n",
    "for i in repo_tags:\n",
    "    p= i.find('a')\n",
    "    school_links.append(base_url + p['href'])\n",
    "school_links"
   ]
  },
  {
   "cell_type": "markdown",
   "id": "9311eb17",
   "metadata": {},
   "source": [
    "## getting the information of the staff"
   ]
  },
  {
   "cell_type": "code",
   "execution_count": null,
   "id": "a1b6de4b",
   "metadata": {},
   "outputs": [],
   "source": [
    "staff_info_url = school_links[1]\n",
    "staff_info_url"
   ]
  },
  {
   "cell_type": "code",
   "execution_count": null,
   "id": "154418e6",
   "metadata": {},
   "outputs": [],
   "source": [
    "response = requests.get(staff_info_url)"
   ]
  },
  {
   "cell_type": "code",
   "execution_count": null,
   "id": "19275501",
   "metadata": {},
   "outputs": [],
   "source": [
    "response.status_code"
   ]
  },
  {
   "cell_type": "code",
   "execution_count": null,
   "id": "e69d924d",
   "metadata": {},
   "outputs": [],
   "source": [
    "len(response.text)"
   ]
  },
  {
   "cell_type": "code",
   "execution_count": null,
   "id": "f5d56acd",
   "metadata": {},
   "outputs": [],
   "source": [
    "staff_doc = BeautifulSoup(response.text,'html.parser')\n"
   ]
  },
  {
   "cell_type": "code",
   "execution_count": null,
   "id": "f7f72cad",
   "metadata": {},
   "outputs": [],
   "source": [
    "staff_info = staff_doc.find_all('a',{'class': \"button\"})"
   ]
  },
  {
   "cell_type": "code",
   "execution_count": null,
   "id": "aaf97752",
   "metadata": {},
   "outputs": [],
   "source": [
    "for i in range(len(staff_info)):\n",
    "    if staff_info[i].text == 'Staff Directory':\n",
    "        s_directory =staff_info[i]['href']"
   ]
  },
  {
   "cell_type": "code",
   "execution_count": null,
   "id": "cb9295b0",
   "metadata": {},
   "outputs": [],
   "source": [
    "s_directory"
   ]
  },
  {
   "cell_type": "code",
   "execution_count": null,
   "id": "9d13ac31",
   "metadata": {},
   "outputs": [],
   "source": [
    "response = requests.get(s_directory)"
   ]
  },
  {
   "cell_type": "code",
   "execution_count": null,
   "id": "363ed1b3",
   "metadata": {},
   "outputs": [],
   "source": [
    "response.status_code"
   ]
  },
  {
   "cell_type": "code",
   "execution_count": null,
   "id": "3a209ef7",
   "metadata": {},
   "outputs": [],
   "source": [
    "p = st"
   ]
  },
  {
   "cell_type": "code",
   "execution_count": null,
   "id": "f53a94d1",
   "metadata": {},
   "outputs": [],
   "source": [
    "response = requests.get(s_directory)\n",
    "staff_list = BeautifulSoup(response.text,'html.parser')\n",
    "next_page = staff_list.find_all('a',class_='pager__link pager__link--next')\n",
    "next_page[0]['href']\n",
    "next_page_link=s_directory+next_page[0]['href']\n",
    "next_page_link"
   ]
  },
  {
   "cell_type": "code",
   "execution_count": null,
   "id": "d30cfaaa",
   "metadata": {},
   "outputs": [],
   "source": [
    "staff_name = staff_list.find_all('td',class_=\"views-field views-field-field-last-name\")"
   ]
  },
  {
   "cell_type": "code",
   "execution_count": null,
   "id": "a3d80357",
   "metadata": {},
   "outputs": [],
   "source": [
    "staff_list = BeautifulSoup(response.text,'html.parser')\n",
    "staff_name = staff_list.find_all('td',class_=\"views-field views-field-field-last-name\")\n",
    "staff_name_list=[]\n",
    "for i in staff_name:\n",
    "    staff_name_list.append(i.text)"
   ]
  },
  {
   "cell_type": "code",
   "execution_count": null,
   "id": "f5d6d018",
   "metadata": {},
   "outputs": [],
   "source": [
    "staff_name_list"
   ]
  },
  {
   "cell_type": "code",
   "execution_count": null,
   "id": "fd1bb33c",
   "metadata": {},
   "outputs": [],
   "source": [
    "position_name = staff_list.find_all('td',class_=\"views-field views-field-field-staff-title\")"
   ]
  },
  {
   "cell_type": "code",
   "execution_count": null,
   "id": "f36f2ff3",
   "metadata": {},
   "outputs": [],
   "source": [
    "position_list=[]\n",
    "for i in position_name:\n",
    "    position_list.append(i.text)"
   ]
  },
  {
   "cell_type": "code",
   "execution_count": null,
   "id": "92538d1e",
   "metadata": {},
   "outputs": [],
   "source": [
    "position_list"
   ]
  },
  {
   "cell_type": "code",
   "execution_count": null,
   "id": "a8be6812",
   "metadata": {},
   "outputs": [],
   "source": [
    "contact_df = staff_list.find_all('td',class_=\"views-field views-field-rendered-item\")"
   ]
  },
  {
   "cell_type": "code",
   "execution_count": null,
   "id": "d59f2a12",
   "metadata": {},
   "outputs": [],
   "source": [
    "contact_list = []\n",
    "base_url = 'https://aldrines.fcps.edu'\n",
    "for i in contact_df:\n",
    "    contact_list.append(base_url + i.find('a')['href'])"
   ]
  },
  {
   "cell_type": "code",
   "execution_count": null,
   "id": "c80b71f4",
   "metadata": {},
   "outputs": [],
   "source": [
    "page_num = input(\"Enter the number of pages\")\n",
    "for i in range(int(page_num)):\n",
    "    url='https://www.fcps.edu/schools-centers?items_per_page=10&keywords=&page='+str(i)\n",
    "    print(url)\n",
    "    \n"
   ]
  },
  {
   "cell_type": "markdown",
   "id": "e180af86",
   "metadata": {},
   "source": [
    "# Final code\n",
    "## Putting it all together\n",
    "\n",
    "- We have a funciton to get the list of topics\n",
    "- We have a function to create a CSV file for scraped repos from a topics page\n",
    "- Let's create a function to put them together"
   ]
  },
  {
   "cell_type": "markdown",
   "id": "cc3b6a66",
   "metadata": {},
   "source": [
    "### In the  below function we are taking the list of schools under FCPS"
   ]
  },
  {
   "cell_type": "code",
   "execution_count": null,
   "id": "1bfa7bc2",
   "metadata": {},
   "outputs": [],
   "source": [
    "def get_schools_list(num_pages):\n",
    "    schools_names = []\n",
    "    school_links = []\n",
    "    for i in range(int(num_pages)):\n",
    "        url='https://www.fcps.edu/schools-centers?items_per_page=10&keywords=&page='+str(i)\n",
    "        print(url)\n",
    "        req = requests.get(url)\n",
    "        content=BeautifulSoup(req.text,'html.parser')\n",
    "        school_selection = 'node__title'\n",
    "        repo_tags = content.find_all('div', {'class':school_selection})\n",
    "        for tag in repo_tags:\n",
    "        #print(a_tags.text.strip())\n",
    "            schools_names.append(tag.text.strip())\n",
    "        base_url = 'https://www.fcps.edu'\n",
    "        for i in repo_tags:\n",
    "            p= i.find('a')\n",
    "            school_links.append(base_url + p['href'])  \n",
    "\n",
    "    return schools_names,school_links\n",
    "\n"
   ]
  },
  {
   "cell_type": "code",
   "execution_count": null,
   "id": "1bad10b8",
   "metadata": {},
   "outputs": [],
   "source": [
    "\n"
   ]
  },
  {
   "cell_type": "code",
   "execution_count": null,
   "id": "99d8b9ff",
   "metadata": {},
   "outputs": [],
   "source": [
    "school_names,school_links = get_schools_list(27)"
   ]
  },
  {
   "cell_type": "markdown",
   "id": "9471bb24",
   "metadata": {},
   "source": [
    "### Here we are extracting the info of all the employee under FCPS"
   ]
  },
  {
   "cell_type": "code",
   "execution_count": null,
   "id": "308136ce",
   "metadata": {},
   "outputs": [],
   "source": [
    "def get_staff_info(school_links):\n",
    "    staff_name_list=[]\n",
    "    position_list=[]\n",
    "    contact_list = []\n",
    "    for i in school_links[1:]:\n",
    "        \n",
    "        print(i)\n",
    "        \n",
    "        staff_info_url = i\n",
    "        staff_info_url\n",
    "        response = requests.get(staff_info_url)\n",
    "        staff_doc = BeautifulSoup(response.text,'html.parser')\n",
    "        staff_info = staff_doc.find_all('a',{'class': \"button\"})\n",
    "        \n",
    "\n",
    "        for i in range(len(staff_info)):\n",
    "            if staff_info[i].text == 'Staff Directory':\n",
    "                s_directory =staff_info[i]['href']\n",
    "                \n",
    "        response = requests.get(s_directory)\n",
    "        staff_list = BeautifulSoup(response.text,'html.parser')\n",
    "        \n",
    "        \n",
    "        #staff_list = BeautifulSoup(response.text,'html.parser')\n",
    "        staff_name = staff_list.find_all('td',class_=\"views-field views-field-field-last-name\")\n",
    "        \n",
    "        for i in staff_name:\n",
    "            staff_name_list.append(i.text)\n",
    "        \n",
    "        position_name = staff_list.find_all('td',class_=\"views-field views-field-field-staff-title\")\n",
    "        \n",
    "        for i in position_name:\n",
    "            position_list.append(i.text)\n",
    "        contact_df = staff_list.find_all('td',class_=\"views-field views-field-rendered-item\")\n",
    "        \n",
    "        base_url = 'https://aldrines.fcps.edu'\n",
    "        for i in contact_df:\n",
    "            contact_list.append(base_url + i.find('a')['href'])\n",
    "            \n",
    "        next_page = staff_list.find_all('a',class_='pager__link pager__link--next')\n",
    "        #next_page_link = next_page[0]['href']\n",
    "        next_page_link=s_directory+next_page[0]['href']\n",
    "        print(next_page_link)\n",
    "            \n",
    "        while next_page_link:\n",
    "            response = requests.get(next_page_link)\n",
    "            staff_list = BeautifulSoup(response.text,'html.parser')\n",
    "            #print('234567')\n",
    "\n",
    "            #staff_list = BeautifulSoup(response.text,'html.parser')\n",
    "            staff_name = staff_list.find_all('td',class_=\"views-field views-field-field-last-name\")\n",
    "\n",
    "            for i in staff_name:\n",
    "                staff_name_list.append(i.text)\n",
    "            print(staff_name_list)\n",
    "            position_name = staff_list.find_all('td',class_=\"views-field views-field-field-staff-title\")\n",
    "\n",
    "            for i in position_name:\n",
    "                position_list.append(i.text)\n",
    "            contact_df = staff_list.find_all('td',class_=\"views-field views-field-rendered-item\")\n",
    "\n",
    "            base_url = 'https://aldrines.fcps.edu'\n",
    "            for i in contact_df:\n",
    "                contact_list.append(base_url + i.find('a')['href'])\n",
    "\n",
    "            next_page = staff_list.find_all('a',class_='pager__link pager__link--next')\n",
    "            #next_page_link = next_page[0]['href']\n",
    "            if next_page != []:\n",
    "                next_page_link=s_directory+next_page[0]['href']\n",
    "            else:\n",
    "                break\n",
    "            \n",
    "          \n",
    "            \n",
    "    return staff_name_list,position_list,contact_list\n"
   ]
  },
  {
   "cell_type": "markdown",
   "id": "19771b26",
   "metadata": {},
   "source": [
    "### now making the dict for further using into the python"
   ]
  },
  {
   "cell_type": "code",
   "execution_count": null,
   "id": "5805ab2d",
   "metadata": {},
   "outputs": [],
   "source": [
    "m,n,q = get_staff_info(school_links)"
   ]
  },
  {
   "cell_type": "code",
   "execution_count": null,
   "id": "f9d5ac1e",
   "metadata": {},
   "outputs": [],
   "source": [
    "\n",
    "dict = {\n",
    "    \n",
    "    'Employee name': m,\n",
    "    'Position': n,\n",
    "    'contace':q,\n",
    "}"
   ]
  },
  {
   "cell_type": "markdown",
   "id": "7f73174e",
   "metadata": {},
   "source": [
    "## Now we have to import the file into the system by using os and panda library"
   ]
  },
  {
   "cell_type": "code",
   "execution_count": 2,
   "id": "ddca0f42",
   "metadata": {},
   "outputs": [],
   "source": [
    "import os\n",
    "import pandas as pd"
   ]
  },
  {
   "cell_type": "code",
   "execution_count": 5,
   "id": "e99639d7",
   "metadata": {},
   "outputs": [],
   "source": [
    "df = pd.DataFrame(dict) \n",
    "\n",
    "df.to_csv('1.csv')"
   ]
  }
 ],
 "metadata": {
  "kernelspec": {
   "display_name": "Python 3 (ipykernel)",
   "language": "python",
   "name": "python3"
  },
  "language_info": {
   "codemirror_mode": {
    "name": "ipython",
    "version": 3
   },
   "file_extension": ".py",
   "mimetype": "text/x-python",
   "name": "python",
   "nbconvert_exporter": "python",
   "pygments_lexer": "ipython3",
   "version": "3.9.7"
  }
 },
 "nbformat": 4,
 "nbformat_minor": 5
}
